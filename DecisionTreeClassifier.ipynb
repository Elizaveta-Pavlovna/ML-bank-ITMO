{
 "cells": [
  {
   "cell_type": "code",
   "execution_count": 95,
   "id": "ff04d9f1",
   "metadata": {},
   "outputs": [],
   "source": [
    "import numpy as np\n",
    "import pandas as pd\n",
    "\n",
    "import matplotlib\n",
    "import matplotlib.pyplot as plt\n",
    "matplotlib.style.use('ggplot')\n",
    "%matplotlib inline\n",
    "\n",
    "\n",
    "import os"
   ]
  },
  {
   "cell_type": "markdown",
   "id": "4723e378",
   "metadata": {},
   "source": [
    "# Подготовим данные"
   ]
  },
  {
   "cell_type": "code",
   "execution_count": 96,
   "id": "0e9f863d",
   "metadata": {},
   "outputs": [
    {
     "data": {
      "text/html": [
       "<div>\n",
       "<style scoped>\n",
       "    .dataframe tbody tr th:only-of-type {\n",
       "        vertical-align: middle;\n",
       "    }\n",
       "\n",
       "    .dataframe tbody tr th {\n",
       "        vertical-align: top;\n",
       "    }\n",
       "\n",
       "    .dataframe thead th {\n",
       "        text-align: right;\n",
       "    }\n",
       "</style>\n",
       "<table border=\"1\" class=\"dataframe\">\n",
       "  <thead>\n",
       "    <tr style=\"text-align: right;\">\n",
       "      <th></th>\n",
       "      <th>age</th>\n",
       "      <th>job</th>\n",
       "      <th>marital</th>\n",
       "      <th>education</th>\n",
       "      <th>default</th>\n",
       "      <th>balance</th>\n",
       "      <th>housing</th>\n",
       "      <th>loan</th>\n",
       "      <th>contact</th>\n",
       "      <th>day</th>\n",
       "      <th>month</th>\n",
       "      <th>duration</th>\n",
       "      <th>campaign</th>\n",
       "      <th>pdays</th>\n",
       "      <th>previous</th>\n",
       "      <th>poutcome</th>\n",
       "      <th>y</th>\n",
       "    </tr>\n",
       "  </thead>\n",
       "  <tbody>\n",
       "    <tr>\n",
       "      <th>0</th>\n",
       "      <td>58</td>\n",
       "      <td>management</td>\n",
       "      <td>married</td>\n",
       "      <td>tertiary</td>\n",
       "      <td>no</td>\n",
       "      <td>2143</td>\n",
       "      <td>yes</td>\n",
       "      <td>no</td>\n",
       "      <td>unknown</td>\n",
       "      <td>5</td>\n",
       "      <td>may</td>\n",
       "      <td>261</td>\n",
       "      <td>1</td>\n",
       "      <td>-1</td>\n",
       "      <td>0</td>\n",
       "      <td>unknown</td>\n",
       "      <td>no</td>\n",
       "    </tr>\n",
       "    <tr>\n",
       "      <th>1</th>\n",
       "      <td>44</td>\n",
       "      <td>technician</td>\n",
       "      <td>single</td>\n",
       "      <td>secondary</td>\n",
       "      <td>no</td>\n",
       "      <td>29</td>\n",
       "      <td>yes</td>\n",
       "      <td>no</td>\n",
       "      <td>unknown</td>\n",
       "      <td>5</td>\n",
       "      <td>may</td>\n",
       "      <td>151</td>\n",
       "      <td>1</td>\n",
       "      <td>-1</td>\n",
       "      <td>0</td>\n",
       "      <td>unknown</td>\n",
       "      <td>no</td>\n",
       "    </tr>\n",
       "    <tr>\n",
       "      <th>2</th>\n",
       "      <td>33</td>\n",
       "      <td>entrepreneur</td>\n",
       "      <td>married</td>\n",
       "      <td>secondary</td>\n",
       "      <td>no</td>\n",
       "      <td>2</td>\n",
       "      <td>yes</td>\n",
       "      <td>yes</td>\n",
       "      <td>unknown</td>\n",
       "      <td>5</td>\n",
       "      <td>may</td>\n",
       "      <td>76</td>\n",
       "      <td>1</td>\n",
       "      <td>-1</td>\n",
       "      <td>0</td>\n",
       "      <td>unknown</td>\n",
       "      <td>no</td>\n",
       "    </tr>\n",
       "    <tr>\n",
       "      <th>3</th>\n",
       "      <td>47</td>\n",
       "      <td>blue-collar</td>\n",
       "      <td>married</td>\n",
       "      <td>unknown</td>\n",
       "      <td>no</td>\n",
       "      <td>1506</td>\n",
       "      <td>yes</td>\n",
       "      <td>no</td>\n",
       "      <td>unknown</td>\n",
       "      <td>5</td>\n",
       "      <td>may</td>\n",
       "      <td>92</td>\n",
       "      <td>1</td>\n",
       "      <td>-1</td>\n",
       "      <td>0</td>\n",
       "      <td>unknown</td>\n",
       "      <td>no</td>\n",
       "    </tr>\n",
       "    <tr>\n",
       "      <th>4</th>\n",
       "      <td>33</td>\n",
       "      <td>unknown</td>\n",
       "      <td>single</td>\n",
       "      <td>unknown</td>\n",
       "      <td>no</td>\n",
       "      <td>1</td>\n",
       "      <td>no</td>\n",
       "      <td>no</td>\n",
       "      <td>unknown</td>\n",
       "      <td>5</td>\n",
       "      <td>may</td>\n",
       "      <td>198</td>\n",
       "      <td>1</td>\n",
       "      <td>-1</td>\n",
       "      <td>0</td>\n",
       "      <td>unknown</td>\n",
       "      <td>no</td>\n",
       "    </tr>\n",
       "  </tbody>\n",
       "</table>\n",
       "</div>"
      ],
      "text/plain": [
       "   age           job  marital  education default  balance housing loan  \\\n",
       "0   58    management  married   tertiary      no     2143     yes   no   \n",
       "1   44    technician   single  secondary      no       29     yes   no   \n",
       "2   33  entrepreneur  married  secondary      no        2     yes  yes   \n",
       "3   47   blue-collar  married    unknown      no     1506     yes   no   \n",
       "4   33       unknown   single    unknown      no        1      no   no   \n",
       "\n",
       "   contact  day month  duration  campaign  pdays  previous poutcome   y  \n",
       "0  unknown    5   may       261         1     -1         0  unknown  no  \n",
       "1  unknown    5   may       151         1     -1         0  unknown  no  \n",
       "2  unknown    5   may        76         1     -1         0  unknown  no  \n",
       "3  unknown    5   may        92         1     -1         0  unknown  no  \n",
       "4  unknown    5   may       198         1     -1         0  unknown  no  "
      ]
     },
     "execution_count": 96,
     "metadata": {},
     "output_type": "execute_result"
    }
   ],
   "source": [
    "bank = pd.read_csv('bank/bank-full.csv', sep=';', decimal=\",\")\n",
    "bank.head()"
   ]
  },
  {
   "cell_type": "code",
   "execution_count": 97,
   "id": "1857aabf",
   "metadata": {},
   "outputs": [
    {
     "data": {
      "text/html": [
       "<div>\n",
       "<style scoped>\n",
       "    .dataframe tbody tr th:only-of-type {\n",
       "        vertical-align: middle;\n",
       "    }\n",
       "\n",
       "    .dataframe tbody tr th {\n",
       "        vertical-align: top;\n",
       "    }\n",
       "\n",
       "    .dataframe thead th {\n",
       "        text-align: right;\n",
       "    }\n",
       "</style>\n",
       "<table border=\"1\" class=\"dataframe\">\n",
       "  <thead>\n",
       "    <tr style=\"text-align: right;\">\n",
       "      <th></th>\n",
       "      <th>age</th>\n",
       "      <th>job</th>\n",
       "      <th>marital</th>\n",
       "      <th>education</th>\n",
       "      <th>default</th>\n",
       "      <th>balance</th>\n",
       "      <th>housing</th>\n",
       "      <th>loan</th>\n",
       "      <th>contact</th>\n",
       "      <th>day</th>\n",
       "      <th>month</th>\n",
       "      <th>duration</th>\n",
       "      <th>campaign</th>\n",
       "      <th>pdays</th>\n",
       "      <th>previous</th>\n",
       "      <th>poutcome</th>\n",
       "      <th>y</th>\n",
       "    </tr>\n",
       "  </thead>\n",
       "  <tbody>\n",
       "    <tr>\n",
       "      <th>0</th>\n",
       "      <td>58</td>\n",
       "      <td>4</td>\n",
       "      <td>1</td>\n",
       "      <td>2</td>\n",
       "      <td>0</td>\n",
       "      <td>2143</td>\n",
       "      <td>1</td>\n",
       "      <td>0</td>\n",
       "      <td>2</td>\n",
       "      <td>5</td>\n",
       "      <td>8</td>\n",
       "      <td>261</td>\n",
       "      <td>1</td>\n",
       "      <td>-1</td>\n",
       "      <td>0</td>\n",
       "      <td>3</td>\n",
       "      <td>0</td>\n",
       "    </tr>\n",
       "    <tr>\n",
       "      <th>1</th>\n",
       "      <td>44</td>\n",
       "      <td>9</td>\n",
       "      <td>2</td>\n",
       "      <td>1</td>\n",
       "      <td>0</td>\n",
       "      <td>29</td>\n",
       "      <td>1</td>\n",
       "      <td>0</td>\n",
       "      <td>2</td>\n",
       "      <td>5</td>\n",
       "      <td>8</td>\n",
       "      <td>151</td>\n",
       "      <td>1</td>\n",
       "      <td>-1</td>\n",
       "      <td>0</td>\n",
       "      <td>3</td>\n",
       "      <td>0</td>\n",
       "    </tr>\n",
       "    <tr>\n",
       "      <th>2</th>\n",
       "      <td>33</td>\n",
       "      <td>2</td>\n",
       "      <td>1</td>\n",
       "      <td>1</td>\n",
       "      <td>0</td>\n",
       "      <td>2</td>\n",
       "      <td>1</td>\n",
       "      <td>1</td>\n",
       "      <td>2</td>\n",
       "      <td>5</td>\n",
       "      <td>8</td>\n",
       "      <td>76</td>\n",
       "      <td>1</td>\n",
       "      <td>-1</td>\n",
       "      <td>0</td>\n",
       "      <td>3</td>\n",
       "      <td>0</td>\n",
       "    </tr>\n",
       "    <tr>\n",
       "      <th>3</th>\n",
       "      <td>47</td>\n",
       "      <td>1</td>\n",
       "      <td>1</td>\n",
       "      <td>3</td>\n",
       "      <td>0</td>\n",
       "      <td>1506</td>\n",
       "      <td>1</td>\n",
       "      <td>0</td>\n",
       "      <td>2</td>\n",
       "      <td>5</td>\n",
       "      <td>8</td>\n",
       "      <td>92</td>\n",
       "      <td>1</td>\n",
       "      <td>-1</td>\n",
       "      <td>0</td>\n",
       "      <td>3</td>\n",
       "      <td>0</td>\n",
       "    </tr>\n",
       "    <tr>\n",
       "      <th>4</th>\n",
       "      <td>33</td>\n",
       "      <td>11</td>\n",
       "      <td>2</td>\n",
       "      <td>3</td>\n",
       "      <td>0</td>\n",
       "      <td>1</td>\n",
       "      <td>0</td>\n",
       "      <td>0</td>\n",
       "      <td>2</td>\n",
       "      <td>5</td>\n",
       "      <td>8</td>\n",
       "      <td>198</td>\n",
       "      <td>1</td>\n",
       "      <td>-1</td>\n",
       "      <td>0</td>\n",
       "      <td>3</td>\n",
       "      <td>0</td>\n",
       "    </tr>\n",
       "  </tbody>\n",
       "</table>\n",
       "</div>"
      ],
      "text/plain": [
       "   age  job  marital  education  default  balance  housing  loan  contact  \\\n",
       "0   58    4        1          2        0     2143        1     0        2   \n",
       "1   44    9        2          1        0       29        1     0        2   \n",
       "2   33    2        1          1        0        2        1     1        2   \n",
       "3   47    1        1          3        0     1506        1     0        2   \n",
       "4   33   11        2          3        0        1        0     0        2   \n",
       "\n",
       "   day  month  duration  campaign  pdays  previous  poutcome  y  \n",
       "0    5      8       261         1     -1         0         3  0  \n",
       "1    5      8       151         1     -1         0         3  0  \n",
       "2    5      8        76         1     -1         0         3  0  \n",
       "3    5      8        92         1     -1         0         3  0  \n",
       "4    5      8       198         1     -1         0         3  0  "
      ]
     },
     "execution_count": 97,
     "metadata": {},
     "output_type": "execute_result"
    }
   ],
   "source": [
    "from sklearn.preprocessing import LabelEncoder\n",
    "\n",
    "labelencoder = LabelEncoder()\n",
    "\n",
    "bank['job'] = labelencoder.fit_transform(bank['job'])\n",
    "bank['marital'] = labelencoder.fit_transform(bank['marital'])\n",
    "bank['education'] = labelencoder.fit_transform(bank['education'])\n",
    "bank['default'] = labelencoder.fit_transform(bank['default'])\n",
    "bank['housing'] = labelencoder.fit_transform(bank['housing'])\n",
    "bank['loan'] = labelencoder.fit_transform(bank['loan'])\n",
    "bank['contact'] = labelencoder.fit_transform(bank['contact'])\n",
    "bank['month'] = labelencoder.fit_transform(bank['month'])\n",
    "bank['poutcome'] = labelencoder.fit_transform(bank['poutcome'])\n",
    "bank['y'] = labelencoder.fit_transform(bank['y'])\n",
    "\n",
    "bank.head()"
   ]
  },
  {
   "cell_type": "code",
   "execution_count": null,
   "id": "977f9036",
   "metadata": {},
   "outputs": [],
   "source": []
  },
  {
   "cell_type": "markdown",
   "id": "f92f70a6",
   "metadata": {},
   "source": [
    "Разделим на предикторы и отклики"
   ]
  },
  {
   "cell_type": "code",
   "execution_count": 98,
   "id": "da9ef07a",
   "metadata": {},
   "outputs": [],
   "source": [
    "X = bank.iloc[:, :-1].values  \n",
    "y = bank.iloc[:, 16].values "
   ]
  },
  {
   "cell_type": "markdown",
   "id": "d2c667d8",
   "metadata": {},
   "source": [
    "Разделим выборку на обучающую и тестовую (0.33 от всей выборки)"
   ]
  },
  {
   "cell_type": "code",
   "execution_count": 99,
   "id": "d4866c75",
   "metadata": {},
   "outputs": [],
   "source": [
    "from sklearn.model_selection import train_test_split  \n",
    "\n",
    "X_train, X_test, y_train, y_test = train_test_split(X, y, test_size=0.33, random_state = 1234)  "
   ]
  },
  {
   "cell_type": "markdown",
   "id": "4555da71",
   "metadata": {},
   "source": [
    "# Строим модель деревья классификации"
   ]
  },
  {
   "cell_type": "code",
   "execution_count": 100,
   "id": "982cdda5",
   "metadata": {},
   "outputs": [],
   "source": [
    "from sklearn.tree import DecisionTreeClassifier"
   ]
  },
  {
   "cell_type": "markdown",
   "id": "a42961d3",
   "metadata": {},
   "source": [
    "Инициализируем и обучаем модель (сначала подберем параметры вручную)"
   ]
  },
  {
   "cell_type": "code",
   "execution_count": 101,
   "id": "8616a47b",
   "metadata": {},
   "outputs": [
    {
     "data": {
      "text/plain": [
       "DecisionTreeClassifier(max_depth=6, min_impurity_decrease=0.001,\n",
       "                       min_samples_leaf=8, min_samples_split=10,\n",
       "                       min_weight_fraction_leaf=0, random_state=42)"
      ]
     },
     "execution_count": 101,
     "metadata": {},
     "output_type": "execute_result"
    }
   ],
   "source": [
    "model = DecisionTreeClassifier(random_state=42,\n",
    "                               # можно выбрать 'entropy', если модель построится некачественной даже после \n",
    "                               # изменения других параметров\n",
    "                               criterion='gini',\n",
    "                               # максимальная глубина дерева (пока выберем 6, кажется, что \n",
    "                               # не слишком мало и не слишком много)\n",
    "                               max_depth=6,\n",
    "                               # максимальное число конечных узлов (не задаем ограничение, потому что \n",
    "                               # глубину дерева задачи уже, этого хватит для ограничения)\n",
    "                               max_leaf_nodes=None,\n",
    "                               # минимальное число элементов в узле для разбиения (пока пустьт будет 10)\n",
    "                               min_samples_split=10,\n",
    "                               # минимальное число элементов в потомке (пока пусть будет 8)\n",
    "                               min_samples_leaf=8,\n",
    "                               # минимальное значение уменьшения загрязнения (разработчики советуют брать 1/1000)\n",
    "                               min_impurity_decrease=0.001,\n",
    "                               class_weight=None,\n",
    "                               # Используем, если задаем веса классов\n",
    "                               min_weight_fraction_leaf=0,                              \n",
    "                               # какое расщепление выбирать? ('best' или 'random' - второе не очень понятно, зачем\n",
    "                               # лучше выбирать лучшее)\n",
    "                               splitter='best',\n",
    "                               # Перебирать все переменные\n",
    "                               max_features = None)\n",
    "\n",
    "model.fit(X_train, y_train)"
   ]
  },
  {
   "cell_type": "markdown",
   "id": "fa4e0480",
   "metadata": {},
   "source": [
    "Распознаем, используя дерево CART"
   ]
  },
  {
   "cell_type": "code",
   "execution_count": 102,
   "id": "c0142431",
   "metadata": {},
   "outputs": [],
   "source": [
    "y_pred_train = model.predict(X_train)\n",
    "y_pred_test = model.predict(X_test)"
   ]
  },
  {
   "cell_type": "code",
   "execution_count": 103,
   "id": "b8946d32",
   "metadata": {},
   "outputs": [],
   "source": [
    "#  Распознаем вероятности принадлежать классам.\n",
    "y_pred_train2 = model.predict_proba(X_train)\n",
    "y_pred_test2 = model.predict_proba(X_test)"
   ]
  },
  {
   "cell_type": "markdown",
   "id": "8d73a957",
   "metadata": {},
   "source": [
    "Посмотрим важность каждого параметра"
   ]
  },
  {
   "cell_type": "code",
   "execution_count": 104,
   "id": "850a4d79",
   "metadata": {},
   "outputs": [
    {
     "data": {
      "text/html": [
       "<div>\n",
       "<style scoped>\n",
       "    .dataframe tbody tr th:only-of-type {\n",
       "        vertical-align: middle;\n",
       "    }\n",
       "\n",
       "    .dataframe tbody tr th {\n",
       "        vertical-align: top;\n",
       "    }\n",
       "\n",
       "    .dataframe thead th {\n",
       "        text-align: right;\n",
       "    }\n",
       "</style>\n",
       "<table border=\"1\" class=\"dataframe\">\n",
       "  <thead>\n",
       "    <tr style=\"text-align: right;\">\n",
       "      <th></th>\n",
       "      <th>feature</th>\n",
       "      <th>importance</th>\n",
       "    </tr>\n",
       "  </thead>\n",
       "  <tbody>\n",
       "    <tr>\n",
       "      <th>11</th>\n",
       "      <td>duration</td>\n",
       "      <td>0.549242</td>\n",
       "    </tr>\n",
       "    <tr>\n",
       "      <th>15</th>\n",
       "      <td>poutcome</td>\n",
       "      <td>0.168027</td>\n",
       "    </tr>\n",
       "    <tr>\n",
       "      <th>10</th>\n",
       "      <td>month</td>\n",
       "      <td>0.100591</td>\n",
       "    </tr>\n",
       "    <tr>\n",
       "      <th>13</th>\n",
       "      <td>pdays</td>\n",
       "      <td>0.072473</td>\n",
       "    </tr>\n",
       "    <tr>\n",
       "      <th>0</th>\n",
       "      <td>age</td>\n",
       "      <td>0.043307</td>\n",
       "    </tr>\n",
       "    <tr>\n",
       "      <th>8</th>\n",
       "      <td>contact</td>\n",
       "      <td>0.042258</td>\n",
       "    </tr>\n",
       "    <tr>\n",
       "      <th>6</th>\n",
       "      <td>housing</td>\n",
       "      <td>0.024102</td>\n",
       "    </tr>\n",
       "    <tr>\n",
       "      <th>1</th>\n",
       "      <td>job</td>\n",
       "      <td>0.000000</td>\n",
       "    </tr>\n",
       "    <tr>\n",
       "      <th>2</th>\n",
       "      <td>marital</td>\n",
       "      <td>0.000000</td>\n",
       "    </tr>\n",
       "    <tr>\n",
       "      <th>3</th>\n",
       "      <td>education</td>\n",
       "      <td>0.000000</td>\n",
       "    </tr>\n",
       "    <tr>\n",
       "      <th>4</th>\n",
       "      <td>default</td>\n",
       "      <td>0.000000</td>\n",
       "    </tr>\n",
       "    <tr>\n",
       "      <th>5</th>\n",
       "      <td>balance</td>\n",
       "      <td>0.000000</td>\n",
       "    </tr>\n",
       "    <tr>\n",
       "      <th>7</th>\n",
       "      <td>loan</td>\n",
       "      <td>0.000000</td>\n",
       "    </tr>\n",
       "    <tr>\n",
       "      <th>9</th>\n",
       "      <td>day</td>\n",
       "      <td>0.000000</td>\n",
       "    </tr>\n",
       "    <tr>\n",
       "      <th>12</th>\n",
       "      <td>campaign</td>\n",
       "      <td>0.000000</td>\n",
       "    </tr>\n",
       "    <tr>\n",
       "      <th>14</th>\n",
       "      <td>previous</td>\n",
       "      <td>0.000000</td>\n",
       "    </tr>\n",
       "  </tbody>\n",
       "</table>\n",
       "</div>"
      ],
      "text/plain": [
       "      feature  importance\n",
       "11   duration    0.549242\n",
       "15   poutcome    0.168027\n",
       "10      month    0.100591\n",
       "13      pdays    0.072473\n",
       "0         age    0.043307\n",
       "8     contact    0.042258\n",
       "6     housing    0.024102\n",
       "1         job    0.000000\n",
       "2     marital    0.000000\n",
       "3   education    0.000000\n",
       "4     default    0.000000\n",
       "5     balance    0.000000\n",
       "7        loan    0.000000\n",
       "9         day    0.000000\n",
       "12   campaign    0.000000\n",
       "14   previous    0.000000"
      ]
     },
     "execution_count": 104,
     "metadata": {},
     "output_type": "execute_result"
    }
   ],
   "source": [
    "pd.DataFrame({'feature': bank.iloc[:, :-1].columns,\n",
    "              'importance': model.feature_importances_}).sort_values('importance', ascending=False)"
   ]
  },
  {
   "cell_type": "markdown",
   "id": "a046a60b",
   "metadata": {},
   "source": [
    "Видно, что больше половины параметров не являются значимыми"
   ]
  },
  {
   "cell_type": "markdown",
   "id": "b3df52af",
   "metadata": {},
   "source": [
    "# Оценим построенную модель"
   ]
  },
  {
   "cell_type": "code",
   "execution_count": 105,
   "id": "3d904ffa",
   "metadata": {},
   "outputs": [],
   "source": [
    "from sklearn import metrics"
   ]
  },
  {
   "cell_type": "markdown",
   "id": "e6b9c13e",
   "metadata": {},
   "source": [
    "Построим матрицы ошибок на тестовой и обучающей выборках"
   ]
  },
  {
   "cell_type": "code",
   "execution_count": 106,
   "id": "7caa745c",
   "metadata": {},
   "outputs": [
    {
     "data": {
      "text/html": [
       "<div>\n",
       "<style scoped>\n",
       "    .dataframe tbody tr th:only-of-type {\n",
       "        vertical-align: middle;\n",
       "    }\n",
       "\n",
       "    .dataframe tbody tr th {\n",
       "        vertical-align: top;\n",
       "    }\n",
       "\n",
       "    .dataframe thead th {\n",
       "        text-align: right;\n",
       "    }\n",
       "</style>\n",
       "<table border=\"1\" class=\"dataframe\">\n",
       "  <thead>\n",
       "    <tr style=\"text-align: right;\">\n",
       "      <th></th>\n",
       "      <th>0</th>\n",
       "      <th>1</th>\n",
       "    </tr>\n",
       "  </thead>\n",
       "  <tbody>\n",
       "    <tr>\n",
       "      <th>0</th>\n",
       "      <td>12780</td>\n",
       "      <td>398</td>\n",
       "    </tr>\n",
       "    <tr>\n",
       "      <th>1</th>\n",
       "      <td>1114</td>\n",
       "      <td>628</td>\n",
       "    </tr>\n",
       "  </tbody>\n",
       "</table>\n",
       "</div>"
      ],
      "text/plain": [
       "       0    1\n",
       "0  12780  398\n",
       "1   1114  628"
      ]
     },
     "execution_count": 106,
     "metadata": {},
     "output_type": "execute_result"
    }
   ],
   "source": [
    "conf_mat = metrics.confusion_matrix(y_test, y_pred_test)\n",
    "conf_mat = pd.DataFrame(conf_mat, index=model.classes_, columns=model.classes_)\n",
    "conf_mat"
   ]
  },
  {
   "cell_type": "code",
   "execution_count": 107,
   "id": "e576cba5",
   "metadata": {},
   "outputs": [
    {
     "data": {
      "text/html": [
       "<div>\n",
       "<style scoped>\n",
       "    .dataframe tbody tr th:only-of-type {\n",
       "        vertical-align: middle;\n",
       "    }\n",
       "\n",
       "    .dataframe tbody tr th {\n",
       "        vertical-align: top;\n",
       "    }\n",
       "\n",
       "    .dataframe thead th {\n",
       "        text-align: right;\n",
       "    }\n",
       "</style>\n",
       "<table border=\"1\" class=\"dataframe\">\n",
       "  <thead>\n",
       "    <tr style=\"text-align: right;\">\n",
       "      <th></th>\n",
       "      <th>0</th>\n",
       "      <th>1</th>\n",
       "    </tr>\n",
       "  </thead>\n",
       "  <tbody>\n",
       "    <tr>\n",
       "      <th>0</th>\n",
       "      <td>25958</td>\n",
       "      <td>786</td>\n",
       "    </tr>\n",
       "    <tr>\n",
       "      <th>1</th>\n",
       "      <td>2286</td>\n",
       "      <td>1261</td>\n",
       "    </tr>\n",
       "  </tbody>\n",
       "</table>\n",
       "</div>"
      ],
      "text/plain": [
       "       0     1\n",
       "0  25958   786\n",
       "1   2286  1261"
      ]
     },
     "execution_count": 107,
     "metadata": {},
     "output_type": "execute_result"
    }
   ],
   "source": [
    "conf_mat = metrics.confusion_matrix(y_train, y_pred_train)\n",
    "conf_mat = pd.DataFrame(conf_mat, index=model.classes_, columns=model.classes_)\n",
    "conf_mat"
   ]
  },
  {
   "cell_type": "markdown",
   "id": "8a5235c8",
   "metadata": {},
   "source": [
    "Вывод: пропорциональность сохраняется: доля неправильно определенных классов в обучающей выборке (786, 2286) примерно в 2 раза больше, чем в тестовой (398, 1114), как и количества наблюдений в этих выборках"
   ]
  },
  {
   "cell_type": "code",
   "execution_count": 108,
   "id": "7f6e021d",
   "metadata": {},
   "outputs": [
    {
     "name": "stdout",
     "output_type": "stream",
     "text": [
      "Accuracy on train set is  0.8985837377438843\n",
      "Accuracy on test set is  0.8986595174262735\n"
     ]
    }
   ],
   "source": [
    "from sklearn.metrics import accuracy_score\n",
    "print(\"Accuracy on train set is \", accuracy_score(y_train, y_pred_train))\n",
    "print(\"Accuracy on test set is \", accuracy_score(y_test, y_pred_test))"
   ]
  },
  {
   "cell_type": "markdown",
   "id": "d121e77e",
   "metadata": {},
   "source": [
    "Вывод: точность на тестовой и обучающей выборках сильно не отличаются, можно сказать, что модель не переобучилась."
   ]
  },
  {
   "cell_type": "markdown",
   "id": "c01dbb7f",
   "metadata": {},
   "source": [
    "# Воспользуемся поиском гиперпараметров на сетке GridSearch"
   ]
  },
  {
   "cell_type": "code",
   "execution_count": 109,
   "id": "3e73d244",
   "metadata": {},
   "outputs": [],
   "source": [
    "from sklearn.model_selection import GridSearchCV"
   ]
  },
  {
   "cell_type": "markdown",
   "id": "7d1046b3",
   "metadata": {},
   "source": [
    "Рассмотрим параметры чуть меньше и чуть больше тех, которые были взяты"
   ]
  },
  {
   "cell_type": "code",
   "execution_count": 110,
   "id": "34a52284",
   "metadata": {},
   "outputs": [],
   "source": [
    "params_set = {\n",
    "'max_depth': [4, 6, 7],\n",
    "'min_samples_split': [8, 10, 12],\n",
    "'min_samples_leaf': [4, 8, 10]\n",
    "}"
   ]
  },
  {
   "cell_type": "markdown",
   "id": "15b460ef",
   "metadata": {},
   "source": [
    "Инициализируем модель, в которой будем менять параметры из сетки"
   ]
  },
  {
   "cell_type": "code",
   "execution_count": 111,
   "id": "e37759ca",
   "metadata": {},
   "outputs": [],
   "source": [
    "model_2 = DecisionTreeClassifier(random_state=42,\n",
    "                               criterion='gini',\n",
    "                               # максимальная глубина дерева (будет меняться)\n",
    "                               max_depth=6,\n",
    "                               max_leaf_nodes=None,\n",
    "                               min_samples_split=10,\n",
    "                               min_samples_leaf=8,\n",
    "                               min_impurity_decrease=0.001,\n",
    "                               class_weight=None,\n",
    "                               min_weight_fraction_leaf=0,                              \n",
    "                               splitter='best',\n",
    "                               max_features = None)"
   ]
  },
  {
   "cell_type": "code",
   "execution_count": 112,
   "id": "df34d81e",
   "metadata": {},
   "outputs": [
    {
     "data": {
      "text/plain": [
       "GridSearchCV(cv=5,\n",
       "             estimator=DecisionTreeClassifier(max_depth=6,\n",
       "                                              min_impurity_decrease=0.001,\n",
       "                                              min_samples_leaf=8,\n",
       "                                              min_samples_split=10,\n",
       "                                              min_weight_fraction_leaf=0,\n",
       "                                              random_state=42),\n",
       "             n_jobs=-1,\n",
       "             param_grid={'max_depth': [4, 6, 7], 'min_samples_leaf': [4, 8, 10],\n",
       "                         'min_samples_split': [8, 10, 12]},\n",
       "             scoring='accuracy')"
      ]
     },
     "execution_count": 112,
     "metadata": {},
     "output_type": "execute_result"
    }
   ],
   "source": [
    "grid_CV_1 = GridSearchCV(estimator=model_2,\n",
    "       param_grid=params_set,\n",
    "       scoring='accuracy',\n",
    "       cv=5,\n",
    "       n_jobs=-1)\n",
    "\n",
    "grid_CV_1.fit(X_train, y_train)"
   ]
  },
  {
   "cell_type": "markdown",
   "id": "f68ee5c9",
   "metadata": {},
   "source": [
    "Лучший набор значений гиперпараметров"
   ]
  },
  {
   "cell_type": "code",
   "execution_count": 113,
   "id": "dd595df5",
   "metadata": {},
   "outputs": [
    {
     "name": "stdout",
     "output_type": "stream",
     "text": [
      "Лучшие значения гиперпараметров:\n",
      " {'max_depth': 6, 'min_samples_leaf': 4, 'min_samples_split': 8}\n"
     ]
    }
   ],
   "source": [
    "best_hyperparams = grid_CV_1.best_params_\n",
    "print('Лучшие значения гиперпараметров:\\n', best_hyperparams)"
   ]
  },
  {
   "cell_type": "markdown",
   "id": "5c2c38d6",
   "metadata": {},
   "source": [
    "Значение критерия качества для лучших значений гиперпараметров "
   ]
  },
  {
   "cell_type": "code",
   "execution_count": 114,
   "id": "06bfa4a4",
   "metadata": {},
   "outputs": [
    {
     "name": "stdout",
     "output_type": "stream",
     "text": [
      "Лучшее accuracy на тестовом множестве 0.8986595174262735\n"
     ]
    }
   ],
   "source": [
    "best_model = grid_CV_1.best_estimator_\n",
    "print('Лучшее accuracy на тестовом множестве', best_model.score(X_test,y_test))"
   ]
  },
  {
   "cell_type": "markdown",
   "id": "2d3e0b7d",
   "metadata": {},
   "source": [
    "Значение качества такое же, как и в модели с ручным подбором параметров)"
   ]
  },
  {
   "cell_type": "code",
   "execution_count": 116,
   "id": "6c9f7300",
   "metadata": {},
   "outputs": [
    {
     "name": "stdout",
     "output_type": "stream",
     "text": [
      "Лучшее accuracy на обучающем множестве 0.8985837377438843\n"
     ]
    }
   ],
   "source": [
    "best_model = grid_CV_1.best_estimator_\n",
    "print('Лучшее accuracy на обучающем множестве', best_model.score(X_train,y_train))"
   ]
  },
  {
   "cell_type": "code",
   "execution_count": null,
   "id": "5c301d2e",
   "metadata": {},
   "outputs": [],
   "source": []
  }
 ],
 "metadata": {
  "kernelspec": {
   "display_name": "Python 3 (ipykernel)",
   "language": "python",
   "name": "python3"
  },
  "language_info": {
   "codemirror_mode": {
    "name": "ipython",
    "version": 3
   },
   "file_extension": ".py",
   "mimetype": "text/x-python",
   "name": "python",
   "nbconvert_exporter": "python",
   "pygments_lexer": "ipython3",
   "version": "3.9.7"
  }
 },
 "nbformat": 4,
 "nbformat_minor": 5
}
